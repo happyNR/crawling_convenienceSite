{
 "cells": [
  {
   "cell_type": "markdown",
   "metadata": {},
   "source": [
    "# 편의점 3사(CU, GS25, 세븐일레븐) 홈페이지에서 매장 정보 크롤링"
   ]
  },
  {
   "cell_type": "code",
   "execution_count": 1,
   "metadata": {},
   "outputs": [],
   "source": [
    "from bs4 import BeautifulSoup\n",
    "import time\n",
    "from datetime import datetime\n",
    "from selenium import webdriver\n",
    "import urllib.parse\n",
    "import requests\n",
    "import pandas as pd\n",
    "import re\n",
    "import numpy as np\n",
    "import matplotlib.pyplot as plt\n",
    "import seaborn as sns\n",
    "from scipy.stats import norm\n",
    "from sklearn.preprocessing import StandardScaler\n",
    "from scipy import stats\n",
    "# 커널을 구성하다보면 에러는 아니지만, warning이 뜨는 경우가 많은데요. 요 아래 두 부분을 씀으로 해서 그런 보기싫은 부분들을 제거해줍니다.\n",
    "import warnings\n",
    "warnings.filterwarnings('ignore')\n",
    "%matplotlib inline"
   ]
  },
  {
   "cell_type": "markdown",
   "metadata": {},
   "source": [
    "**1. 셀레니움을 이용한 cu 크롤링**"
   ]
  },
  {
   "cell_type": "code",
   "execution_count": 10,
   "metadata": {},
   "outputs": [],
   "source": [
    "#cu 크롤링\n",
    "\n",
    "location_text=[]\n",
    "address_text=[]\n",
    "result={}\n",
    "\n",
    "#엑셀로 저장하기 위한 변수\n",
    "RESULT_PATH =  #결과 저장할 경로\n",
    "now = datetime.now() #파일이름 현 시간으로 저장하기\n",
    "\n",
    "driver = webdriver.Chrome('C:/Users/snari/Downloads/chromedriver_win32/chromedriver.exe')\n",
    "driver.get('http://cu.bgfretail.com/store/list.do?category=store')\n",
    "\n",
    "driver.find_element_by_xpath('//*[@id=\"sido\"]').click()\n",
    "driver.find_element_by_xpath('//*[@id=\"sido\"]/option[3]').click()\n",
    "driver.find_element_by_xpath('//*[@id=\"contents\"]/div[1]/div/div[1]/div[2]/table/tbody/tr[1]/td[2]/div').click()\n",
    "\n",
    "\n",
    "for page in range(1, 510):\n",
    "    driver.execute_script('newsPage(%i);' % page) #onclick메소드 바로 가져옴\n",
    "    html = driver.page_source\n",
    "    soup = BeautifulSoup(html, 'lxml')\n",
    "    \n",
    "    foundStoreNames = soup.select('div.detail_store tbody td > span.name')\n",
    "    foundStoreLocations = soup.select('div.detail_info > address > a')\n",
    "    \n",
    "    # 5개씩 데이터를 저장\n",
    "    for index in range(len(foundStoreNames)):\n",
    "        location_text.append(foundStoreNames[index].text)\n",
    "        address_text.append(foundStoreLocations[index].text)\n",
    "        \n",
    "\n",
    "    \n",
    "    \n",
    "#모든 리스트 딕셔너리형태로 저장\n",
    "result= {\"location\" : location_text , \"address\":address_text }  \n",
    "df = pd.DataFrame(result)  #df로 변환\n",
    "# 새로 만들 파일이름 지정\n",
    "outputFileName = '%s-%s-%s  %s시 %s분 %s초 merging.xlsx' % (now.year, now.month, now.day, now.hour, now.minute, now.second)\n",
    "df.to_excel(RESULT_PATH+outputFileName,sheet_name='sheet1')   \n",
    "    \n",
    "    "
   ]
  },
  {
   "cell_type": "markdown",
   "metadata": {},
   "source": [
    "**2. 셀레니움을 이용한 gs25 크롤링**"
   ]
  },
  {
   "cell_type": "code",
   "execution_count": 16,
   "metadata": {},
   "outputs": [],
   "source": [
    "#gs25 크롤링\n",
    "\n",
    "location_text=[]\n",
    "address_text=[]\n",
    "result={}\n",
    "\n",
    "#엑셀로 저장하기 위한 변수\n",
    "RESULT_PATH =  #결과 저장할 경로\n",
    "now = datetime.now() #파일이름 현 시간으로 저장하기\n",
    "\n",
    "driver = webdriver.Chrome('C:/Users/snari/Downloads/chromedriver_win32/chromedriver.exe')\n",
    "driver.get('http://gs25.gsretail.com/gscvs/ko/store-services/locations')\n",
    "\n",
    "driver.find_element_by_xpath('//*[@id=\"stb1\"]').click()\n",
    "driver.find_element_by_xpath('//*[@id=\"stb1\"]/option[2]').click()\n",
    "time.sleep(1)\n",
    "driver.find_element_by_xpath('//*[@id=\"searchButton\"]').click()\n",
    "\n",
    "\n",
    "for page in range(1, 589):\n",
    "    driver.execute_script('boardViewController.getDataList(%i);' % page) #onclick 메서드 그대로 사용\n",
    "    time.sleep(1)\n",
    "    html = driver.page_source\n",
    "    soup = BeautifulSoup(html, 'lxml')\n",
    "    \n",
    "    foundStoreNames = soup.select('#storeInfoList a.st_name')\n",
    "    foundStoreLocations = soup.select('#storeInfoList a.st_address')\n",
    "    \n",
    "    # 5개씩 데이터를 저장\n",
    "    for index in range(len(foundStoreNames)):\n",
    "        location_text.append(foundStoreNames[index].text)\n",
    "        address_text.append(foundStoreLocations[index].text)\n",
    "        \n",
    "\n",
    "    \n",
    "    \n",
    "#모든 리스트 딕셔너리형태로 저장\n",
    "result= {\"location\" : location_text , \"address\":address_text }  \n",
    "df = pd.DataFrame(result)  #df로 변환\n",
    "# 새로 만들 파일이름 지정\n",
    "outputFileName = '%s-%s-%s  %s시 %s분 %s초 merging.xlsx' % (now.year, now.month, now.day, now.hour, now.minute, now.second)\n",
    "df.to_excel(RESULT_PATH+outputFileName,sheet_name='sheet1')   \n",
    "    \n",
    "    "
   ]
  },
  {
   "cell_type": "markdown",
   "metadata": {},
   "source": [
    "**3. requests 이용한 세븐일레븐 크롤링**"
   ]
  },
  {
   "cell_type": "code",
   "execution_count": 6,
   "metadata": {},
   "outputs": [],
   "source": [
    "#세븐일레븐 크롤링\n",
    "\n",
    "location_text=[]\n",
    "address_text=[]\n",
    "result={}\n",
    "\n",
    "#엑셀로 저장하기 위한 변수\n",
    "RESULT_PATH =  #결과 저장할 경로\n",
    "now = datetime.now() #파일이름 현 시간으로 저장하기\n",
    "\n",
    "# requests에 사용할 url 및 헤더 설정\n",
    "url = 'http://www.7-eleven.co.kr/util/storeLayerPop.asp'\n",
    "headers = {\n",
    "    'Referer' : 'http://www.7-eleven.co.kr/event/eventView.asp?seqNo=573', #network에 있는 그대로 가져와야함\n",
    "    'User-Agent' : 'Mozilla/5.0 (Windows NT 10.0; Win64; x64) AppleWebKit/537.36 (KHTML, like Gecko) Chrome/76.0.3809.132 Safari/537.36'\n",
    "}\n",
    "inputData = {\n",
    "    'storeLaySido' : '서울',\n",
    "    'storeLayGu' : '강서구',\n",
    "    'hiddentext' : 'none'\n",
    "}#network에 있는 그대로 가져와야함\n",
    "\n",
    "# 서울시 행정구 리스트\n",
    "guList = ['강남구', '강동구', '강북구', '강서구', '관악구', '광진구', '구로구', '금천구', '노원구', '도봉구', '동대문구', '중구', '은평구',\n",
    "          '동작구', '마포구', '서대문구', '서초구', '성동구', '성북구', '송파구', '양천구', '영등포구', '용산구', '중랑구']\n",
    "\n",
    "# 행정구 돌아가며 데이터 가져오기\n",
    "for gu in guList:\n",
    "    inputData['storeLayGu'] = gu\n",
    "    r = requests.post(url, data=inputData, headers=headers)\n",
    "    soup = BeautifulSoup(r.text, 'lxml')\n",
    "    time.sleep(1)\n",
    "    \n",
    "    foundStoreNames = soup.select('div.list_stroe a > span:nth-child(1)') #몇번째를 가져와라\n",
    "    foundStoreLocations = soup.select('div.list_stroe a > span:nth-child(2)')\n",
    "    \n",
    "    for count in range(len(foundStoreNames)):\n",
    "        location_text.append(foundStoreNames[count].get_text(strip=True))\n",
    "        address_text.append(foundStoreLocations[count].text.replace('\\xa0', ' '))\n",
    "\n",
    "        \n",
    "\n",
    "#모든 리스트 딕셔너리형태로 저장\n",
    "result= {\"location\" : location_text , \"address\":address_text }  \n",
    "df = pd.DataFrame(result)  #df로 변환\n",
    "# 새로 만들 파일이름 지정\n",
    "outputFileName = '%s-%s-%s  %s시 %s분 %s초 merging.xlsx' % (now.year, now.month, now.day, now.hour, now.minute, now.second)\n",
    "df.to_excel(RESULT_PATH+outputFileName,sheet_name='sheet1')"
   ]
  },
  {
   "cell_type": "code",
   "execution_count": 2,
   "metadata": {},
   "outputs": [],
   "source": [
    "CU = pd.read_csv(\"./CU.csv\",encoding = 'EUC-KR')\n",
    "GS = pd.read_csv(\"./GS25.csv\",encoding = 'EUC-KR')\n",
    "Seven = pd.read_csv(\"./SEVEN.csv\",encoding = 'EUC-KR')"
   ]
  },
  {
   "cell_type": "code",
   "execution_count": 29,
   "metadata": {},
   "outputs": [
    {
     "data": {
      "text/plain": [
       "Unnamed: 0    0\n",
       "address       0\n",
       "location      0\n",
       "dtype: int64"
      ]
     },
     "execution_count": 29,
     "metadata": {},
     "output_type": "execute_result"
    }
   ],
   "source": [
    "CU.isnull().sum()"
   ]
  },
  {
   "cell_type": "code",
   "execution_count": 30,
   "metadata": {},
   "outputs": [
    {
     "data": {
      "text/plain": [
       "Unnamed: 0    0\n",
       "address       0\n",
       "location      0\n",
       "dtype: int64"
      ]
     },
     "execution_count": 30,
     "metadata": {},
     "output_type": "execute_result"
    }
   ],
   "source": [
    "GS.isnull().sum()"
   ]
  },
  {
   "cell_type": "code",
   "execution_count": 31,
   "metadata": {},
   "outputs": [
    {
     "data": {
      "text/plain": [
       "Unnamed: 0    0\n",
       "address       0\n",
       "location      0\n",
       "dtype: int64"
      ]
     },
     "execution_count": 31,
     "metadata": {},
     "output_type": "execute_result"
    }
   ],
   "source": [
    "Seven.isnull().sum()"
   ]
  },
  {
   "cell_type": "code",
   "execution_count": 3,
   "metadata": {},
   "outputs": [],
   "source": [
    "CU = CU[CU['address'] != ' ']"
   ]
  },
  {
   "cell_type": "code",
   "execution_count": 33,
   "metadata": {},
   "outputs": [
    {
     "name": "stdout",
     "output_type": "stream",
     "text": [
      "(2497, 3)\n"
     ]
    }
   ],
   "source": [
    "print(CU.shape)"
   ]
  },
  {
   "cell_type": "code",
   "execution_count": 4,
   "metadata": {},
   "outputs": [],
   "source": [
    "# 테이블에 브랜드 명 삽입\n",
    "\n",
    "CU['brand'] = 'CU'\n",
    "CU['location'] = 'CU ' + CU['location']\n",
    "\n",
    "GS['brand'] = 'GS25'\n",
    "GS['location'] = GS['location'].str.replace('GS25', '') # GS25는 원데이터에 GS25가 많이 포함\n",
    "GS['location'] = 'GS25 ' + GS['location']\n",
    "\n",
    "Seven['brand'] = '세븐일레븐'\n",
    "Seven['location'] = '세븐일레븐 ' + Seven['location']"
   ]
  },
  {
   "cell_type": "code",
   "execution_count": 5,
   "metadata": {},
   "outputs": [
    {
     "data": {
      "text/html": [
       "<div>\n",
       "<style scoped>\n",
       "    .dataframe tbody tr th:only-of-type {\n",
       "        vertical-align: middle;\n",
       "    }\n",
       "\n",
       "    .dataframe tbody tr th {\n",
       "        vertical-align: top;\n",
       "    }\n",
       "\n",
       "    .dataframe thead th {\n",
       "        text-align: right;\n",
       "    }\n",
       "</style>\n",
       "<table border=\"1\" class=\"dataframe\">\n",
       "  <thead>\n",
       "    <tr style=\"text-align: right;\">\n",
       "      <th></th>\n",
       "      <th>Unnamed: 0</th>\n",
       "      <th>address</th>\n",
       "      <th>location</th>\n",
       "      <th>brand</th>\n",
       "    </tr>\n",
       "  </thead>\n",
       "  <tbody>\n",
       "    <tr>\n",
       "      <th>8715</th>\n",
       "      <td>2534</td>\n",
       "      <td>서울특별시 중구 퇴계로 48, (남창동)</td>\n",
       "      <td>CU 회현역점</td>\n",
       "      <td>CU</td>\n",
       "    </tr>\n",
       "    <tr>\n",
       "      <th>8716</th>\n",
       "      <td>2535</td>\n",
       "      <td>서울특별시 서초구 남부순환로315길 100, (서초동)</td>\n",
       "      <td>CU 효령로점</td>\n",
       "      <td>CU</td>\n",
       "    </tr>\n",
       "    <tr>\n",
       "      <th>8717</th>\n",
       "      <td>2536</td>\n",
       "      <td>서울특별시 용산구 후암로 71-2, (후암동)</td>\n",
       "      <td>CU 후암미주점</td>\n",
       "      <td>CU</td>\n",
       "    </tr>\n",
       "    <tr>\n",
       "      <th>8718</th>\n",
       "      <td>2537</td>\n",
       "      <td>서울특별시 용산구 후암로 1, (후암동) 1층</td>\n",
       "      <td>CU 후암아리랑점</td>\n",
       "      <td>CU</td>\n",
       "    </tr>\n",
       "    <tr>\n",
       "      <th>8719</th>\n",
       "      <td>2538</td>\n",
       "      <td>서울특별시 용산구 후암로28길 49, (후암동) 1층</td>\n",
       "      <td>CU 후암제일점</td>\n",
       "      <td>CU</td>\n",
       "    </tr>\n",
       "    <tr>\n",
       "      <th>8720</th>\n",
       "      <td>2539</td>\n",
       "      <td>서울특별시 용산구 후암로 42-2, (후암동) 1층</td>\n",
       "      <td>CU 후암좋아요점</td>\n",
       "      <td>CU</td>\n",
       "    </tr>\n",
       "    <tr>\n",
       "      <th>8721</th>\n",
       "      <td>2541</td>\n",
       "      <td>서울특별시 동대문구 망우로16길 26,  (휘경동) 1층</td>\n",
       "      <td>CU 휘경점</td>\n",
       "      <td>CU</td>\n",
       "    </tr>\n",
       "    <tr>\n",
       "      <th>8722</th>\n",
       "      <td>2542</td>\n",
       "      <td>서울특별시 동대문구 한천로 264, 주공프라자  (휘경동) 1층 102호</td>\n",
       "      <td>CU 휘경주공점</td>\n",
       "      <td>CU</td>\n",
       "    </tr>\n",
       "    <tr>\n",
       "      <th>8723</th>\n",
       "      <td>2543</td>\n",
       "      <td>서울특별시 동대문구 망우로12길 5, (휘경동) 1층</td>\n",
       "      <td>CU 휘경행복점</td>\n",
       "      <td>CU</td>\n",
       "    </tr>\n",
       "    <tr>\n",
       "      <th>8724</th>\n",
       "      <td>2544</td>\n",
       "      <td>서울특별시 동작구 흑석로 109-2, (흑석동)</td>\n",
       "      <td>CU 흑석로점</td>\n",
       "      <td>CU</td>\n",
       "    </tr>\n",
       "  </tbody>\n",
       "</table>\n",
       "</div>"
      ],
      "text/plain": [
       "      Unnamed: 0                                   address   location brand\n",
       "8715        2534                    서울특별시 중구 퇴계로 48, (남창동)    CU 회현역점    CU\n",
       "8716        2535            서울특별시 서초구 남부순환로315길 100, (서초동)    CU 효령로점    CU\n",
       "8717        2536                 서울특별시 용산구 후암로 71-2, (후암동)   CU 후암미주점    CU\n",
       "8718        2537                 서울특별시 용산구 후암로 1, (후암동) 1층  CU 후암아리랑점    CU\n",
       "8719        2538             서울특별시 용산구 후암로28길 49, (후암동) 1층   CU 후암제일점    CU\n",
       "8720        2539              서울특별시 용산구 후암로 42-2, (후암동) 1층  CU 후암좋아요점    CU\n",
       "8721        2541           서울특별시 동대문구 망우로16길 26,  (휘경동) 1층     CU 휘경점    CU\n",
       "8722        2542  서울특별시 동대문구 한천로 264, 주공프라자  (휘경동) 1층 102호   CU 휘경주공점    CU\n",
       "8723        2543             서울특별시 동대문구 망우로12길 5, (휘경동) 1층   CU 휘경행복점    CU\n",
       "8724        2544                서울특별시 동작구 흑석로 109-2, (흑석동)    CU 흑석로점    CU"
      ]
     },
     "execution_count": 5,
     "metadata": {},
     "output_type": "execute_result"
    }
   ],
   "source": [
    "stores = pd.concat([Seven, GS, CU])\n",
    "stores = stores.reset_index(drop=True)\n",
    "stores.tail(10)"
   ]
  },
  {
   "cell_type": "markdown",
   "metadata": {},
   "source": [
    "**4. 구글맵의 지오태깅 서비스로 주소를 활용하여 위도/경도 획득**"
   ]
  },
  {
   "cell_type": "code",
   "execution_count": 8,
   "metadata": {},
   "outputs": [
    {
     "data": {
      "text/html": [
       "<div>\n",
       "<style scoped>\n",
       "    .dataframe tbody tr th:only-of-type {\n",
       "        vertical-align: middle;\n",
       "    }\n",
       "\n",
       "    .dataframe tbody tr th {\n",
       "        vertical-align: top;\n",
       "    }\n",
       "\n",
       "    .dataframe thead th {\n",
       "        text-align: right;\n",
       "    }\n",
       "</style>\n",
       "<table border=\"1\" class=\"dataframe\">\n",
       "  <thead>\n",
       "    <tr style=\"text-align: right;\">\n",
       "      <th></th>\n",
       "      <th>Unnamed: 0</th>\n",
       "      <th>address</th>\n",
       "      <th>location</th>\n",
       "      <th>brand</th>\n",
       "      <th>latitude</th>\n",
       "      <th>longitude</th>\n",
       "    </tr>\n",
       "  </thead>\n",
       "  <tbody>\n",
       "    <tr>\n",
       "      <th>8720</th>\n",
       "      <td>2539</td>\n",
       "      <td>서울특별시 용산구 후암로 42-2, (후암동) 1층</td>\n",
       "      <td>CU 후암좋아요점</td>\n",
       "      <td>CU</td>\n",
       "      <td>37.549777</td>\n",
       "      <td>126.977553</td>\n",
       "    </tr>\n",
       "    <tr>\n",
       "      <th>8721</th>\n",
       "      <td>2541</td>\n",
       "      <td>서울특별시 동대문구 망우로16길 26,  (휘경동) 1층</td>\n",
       "      <td>CU 휘경점</td>\n",
       "      <td>CU</td>\n",
       "      <td>37.588974</td>\n",
       "      <td>127.061089</td>\n",
       "    </tr>\n",
       "    <tr>\n",
       "      <th>8722</th>\n",
       "      <td>2542</td>\n",
       "      <td>서울특별시 동대문구 한천로 264, 주공프라자  (휘경동) 1층 102호</td>\n",
       "      <td>CU 휘경주공점</td>\n",
       "      <td>CU</td>\n",
       "      <td>37.593228</td>\n",
       "      <td>127.069433</td>\n",
       "    </tr>\n",
       "    <tr>\n",
       "      <th>8723</th>\n",
       "      <td>2543</td>\n",
       "      <td>서울특별시 동대문구 망우로12길 5, (휘경동) 1층</td>\n",
       "      <td>CU 휘경행복점</td>\n",
       "      <td>CU</td>\n",
       "      <td>37.588804</td>\n",
       "      <td>127.059294</td>\n",
       "    </tr>\n",
       "    <tr>\n",
       "      <th>8724</th>\n",
       "      <td>2544</td>\n",
       "      <td>서울특별시 동작구 흑석로 109-2, (흑석동)</td>\n",
       "      <td>CU 흑석로점</td>\n",
       "      <td>CU</td>\n",
       "      <td>37.508376</td>\n",
       "      <td>126.961162</td>\n",
       "    </tr>\n",
       "  </tbody>\n",
       "</table>\n",
       "</div>"
      ],
      "text/plain": [
       "      Unnamed: 0                                   address   location brand  \\\n",
       "8720        2539              서울특별시 용산구 후암로 42-2, (후암동) 1층  CU 후암좋아요점    CU   \n",
       "8721        2541           서울특별시 동대문구 망우로16길 26,  (휘경동) 1층     CU 휘경점    CU   \n",
       "8722        2542  서울특별시 동대문구 한천로 264, 주공프라자  (휘경동) 1층 102호   CU 휘경주공점    CU   \n",
       "8723        2543             서울특별시 동대문구 망우로12길 5, (휘경동) 1층   CU 휘경행복점    CU   \n",
       "8724        2544                서울특별시 동작구 흑석로 109-2, (흑석동)    CU 흑석로점    CU   \n",
       "\n",
       "       latitude   longitude  \n",
       "8720  37.549777  126.977553  \n",
       "8721  37.588974  127.061089  \n",
       "8722  37.593228  127.069433  \n",
       "8723  37.588804  127.059294  \n",
       "8724  37.508376  126.961162  "
      ]
     },
     "execution_count": 8,
     "metadata": {},
     "output_type": "execute_result"
    }
   ],
   "source": [
    "import googlemaps\n",
    "gmaps = googlemaps.Client(key='')\n",
    "\n",
    "def getLatitude(location):\n",
    "    try:\n",
    "        return gmaps.geocode(location, language='ko')[0]['geometry']['location']['lat']\n",
    "    except:\n",
    "        return -1 # 주소 잘못 찍힌 것 -1로 반환\n",
    "\n",
    "def getLongitude(location):\n",
    "    try:\n",
    "        return gmaps.geocode(location, language='ko')[0]['geometry']['location']['lng']\n",
    "    except:\n",
    "        return -1\n",
    "\n",
    "stores['latitude'] = stores['address'].apply(lambda x: getLatitude(x)) #for문보다 속도가 빠름\n",
    "stores['longitude'] = stores['address'].apply(lambda x: getLongitude(x))\n",
    "\n",
    "# 중간 저장\n",
    "stores.to_csv('./stores_with_location.csv', encoding = 'EUC-KR', index=False)\n",
    "stores.tail()"
   ]
  },
  {
   "cell_type": "code",
   "execution_count": null,
   "metadata": {},
   "outputs": [],
   "source": []
  }
 ],
 "metadata": {
  "kernelspec": {
   "display_name": "Python 3",
   "language": "python",
   "name": "python3"
  },
  "language_info": {
   "codemirror_mode": {
    "name": "ipython",
    "version": 3
   },
   "file_extension": ".py",
   "mimetype": "text/x-python",
   "name": "python",
   "nbconvert_exporter": "python",
   "pygments_lexer": "ipython3",
   "version": "3.7.8"
  }
 },
 "nbformat": 4,
 "nbformat_minor": 2
}
